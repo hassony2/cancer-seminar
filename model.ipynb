{
 "cells": [
  {
   "cell_type": "code",
   "execution_count": 2,
   "metadata": {
    "collapsed": false
   },
   "outputs": [
    {
     "name": "stdout",
     "output_type": "stream",
     "text": [
      "The autoreload extension is already loaded. To reload it, use:\n",
      "  %reload_ext autoreload\n"
     ]
    }
   ],
   "source": [
    "import json\n",
    "import math\n",
    "import os\n",
    "\n",
    "import matplotlib.pyplot as plt\n",
    "import numpy as np\n",
    "import pandas as pd\n",
    "import pickle as pkl\n",
    "from PIL import Image\n",
    "import scipy.misc\n",
    "import torch\n",
    "from torch.autograd import Variable\n",
    "import torch.nn as nn\n",
    "import torch.nn.functional as F\n",
    "import torch.utils.data as data\n",
    "from torchvision import transforms\n",
    "\n",
    "\n",
    "from src import preprocess\n",
    "from src import patient\n",
    "from src import model\n",
    "from src import metrics\n",
    "\n",
    "%load_ext autoreload \n",
    "%autoreload 2"
   ]
  },
  {
   "cell_type": "code",
   "execution_count": 3,
   "metadata": {
    "collapsed": false
   },
   "outputs": [],
   "source": [
    "data_dir = '/workdir/hassony/data'\n",
    "train_dir = data_dir + '/Training'\n",
    "save_dir = data_dir + '/storage'\n",
    "\n",
    "train_df = pd.read_csv('/workdir/hassony/data/Training.csv')"
   ]
  },
  {
   "cell_type": "code",
   "execution_count": 4,
   "metadata": {
    "collapsed": false
   },
   "outputs": [],
   "source": [
    "patch_size = 25\n",
    "patient_patches = preprocess.extract_all_patches(train_dir, patch_size)"
   ]
  },
  {
   "cell_type": "code",
   "execution_count": null,
   "metadata": {
    "collapsed": false,
    "scrolled": true
   },
   "outputs": [],
   "source": [
    "train_df"
   ]
  },
  {
   "cell_type": "code",
   "execution_count": 6,
   "metadata": {
    "collapsed": false
   },
   "outputs": [],
   "source": [
    "pkl.dump(patient_patches, open(save_dir +\n",
    "                                '/train_patient_patches_size{size}.pkl'.format(size=patch_size),\n",
    "                                'wb'))\n",
    "patient_patches = pkl.load( open(save_dir + '/train_patient_patches_size{size}.pkl'.format(size=patch_size), 'rb'))"
   ]
  },
  {
   "cell_type": "code",
   "execution_count": 8,
   "metadata": {
    "collapsed": false
   },
   "outputs": [
    {
     "name": "stdout",
     "output_type": "stream",
     "text": [
      "18 negative hpv patients\n",
      "53 positive hpv patients\n"
     ]
    }
   ],
   "source": [
    "# Get hpv-positive and hpv-negative patients\n",
    "pos_patients = patient.get_patients_by_rec(train_df, patient_patches.keys(), patient_patches, 1)\n",
    "neg_patients = patient.get_patients_by_rec(train_df, patient_patches.keys(), patient_patches, 0)\n",
    "print('{0} negative hpv patients'.format(len(neg_patients)))\n",
    "print('{0} positive hpv patients'.format(len(pos_patients)))"
   ]
  },
  {
   "cell_type": "code",
   "execution_count": 9,
   "metadata": {
    "collapsed": false
   },
   "outputs": [
    {
     "name": "stdout",
     "output_type": "stream",
     "text": [
      "train patients : [102, 100, 82, 107, 139, 1, 70, 4, 62, 43, 34, 37, 78, 140, 105, 48, 120, 153, 73, 150, 39, 71, 99, 47, 5, 64, 174, 9, 24, 18, 196, 293, 22, 273, 313]\n",
      "test patients : [51, 26, 44, 84, 63, 23, 116, 12, 7, 54, 65, 137, 55, 122, 79, 93, 30, 159, 38, 49, 121, 59, 32, 136, 46, 111, 13, 194, 142, 2, 15, 57, 143, 285, 312]\n"
     ]
    }
   ],
   "source": [
    "# Create a train-test-split with same number of negative and positive hpv patients in each set\n",
    "\n",
    "# Insure test-train split is consistent\n",
    "np.random.seed(2)\n",
    "    \n",
    "train_list, test_list = model.make_train_test_lists(pos_patients, neg_patients)\n",
    "print('train patients : {0}'.format(train_list))\n",
    "print('test patients : {0}'.format(test_list))"
   ]
  },
  {
   "cell_type": "code",
   "execution_count": 13,
   "metadata": {
    "collapsed": false
   },
   "outputs": [],
   "source": [
    "# Extract patches and targets as list of tensors and list of int respectively\n",
    "train_patches, train_targets = model.create_patch_target(train_list, patient_patches, train_df)\n",
    "test_patches, test_targets = model.create_patch_target(test_list, patient_patches, train_df)\n"
   ]
  },
  {
   "cell_type": "code",
   "execution_count": 14,
   "metadata": {
    "collapsed": false
   },
   "outputs": [
    {
     "name": "stdout",
     "output_type": "stream",
     "text": [
      "Extracted 383955 patches for training\n",
      "Extracted 353582 patches for testing\n"
     ]
    }
   ],
   "source": [
    "print('Extracted {patch_nb} patches for training'.format(patch_nb=len(train_patches)))\n",
    "print('Extracted {patch_nb} patches for testing'.format(patch_nb=len(test_patches)))"
   ]
  },
  {
   "cell_type": "code",
   "execution_count": 15,
   "metadata": {
    "collapsed": false
   },
   "outputs": [],
   "source": [
    "mean_patch = model.get_mean_patch(train_patches)"
   ]
  },
  {
   "cell_type": "code",
   "execution_count": 16,
   "metadata": {
    "collapsed": false
   },
   "outputs": [
    {
     "data": {
      "image/png": "[encoded data removed]",
      "text/plain": [
       "<matplotlib.figure.Figure at 0x7fff27816f98>"
      ]
     },
     "metadata": {},
     "output_type": "display_data"
    }
   ],
   "source": [
    "mean_patch\n",
    "plt.imshow(mean_patch.numpy())\n",
    "plt.title('mean patch')\n",
    "plt.show()\n"
   ]
  },
  {
   "cell_type": "code",
   "execution_count": 17,
   "metadata": {
    "collapsed": false
   },
   "outputs": [
    {
     "name": "stdout",
     "output_type": "stream",
     "text": [
      "261056 positive patches\n",
      "122899 negative patches\n",
      "115480 positive patches\n",
      "238102 negative patches\n"
     ]
    }
   ],
   "source": [
    "train_target_tensors, train_patch_tensors = model.create_balanced_tensors(train_targets, train_patches, disp=True)\n",
    "test_target_tensors, test_patch_tensors = model.create_balanced_tensors(test_targets, test_patches, disp=True)\n"
   ]
  },
  {
   "cell_type": "code",
   "execution_count": 18,
   "metadata": {
    "collapsed": false
   },
   "outputs": [
    {
     "name": "stdout",
     "output_type": "stream",
     "text": [
      "torch.Size([245798, 1, 25, 25])\n",
      "torch.Size([230960, 1, 25, 25])\n"
     ]
    }
   ],
   "source": [
    "print(train_patch_tensors.size())\n",
    "print(test_patch_tensors.size())"
   ]
  },
  {
   "cell_type": "code",
   "execution_count": null,
   "metadata": {
    "collapsed": false
   },
   "outputs": [],
   "source": [
    "batch_size = 10\n",
    "train_dataset = torch.utils.data.TensorDataset(train_patch_tensors, train_target_tensors)\n",
    "train_loader = torch.utils.data.DataLoader(train_dataset, shuffle=True, batch_size=batch_size)\n",
    "\n",
    "test_dataset = torch.utils.data.TensorDataset(test_patch_tensors, test_target_tensors)\n",
    "test_loader = torch.utils.data.DataLoader(test_dataset, shuffle=True, batch_size=batch_size)\n",
    "print(len(train_loader), 'training samples')\n",
    "print(len(test_loader), 'training samples')"
   ]
  },
  {
   "cell_type": "code",
   "execution_count": null,
   "metadata": {
    "collapsed": false
   },
   "outputs": [],
   "source": [
    "class Net(nn.Module):\n",
    "    def __init__(self):\n",
    "        super(Net, self).__init__()\n",
    "        self.conv1 = nn.Conv2d(1, 32, kernel_size=3)\n",
    "        self.conv2 = nn.Conv2d(32, 32, kernel_size=3)\n",
    "        self.conv3 = nn.Conv2d(32, 64, kernel_size=3)\n",
    "        # self.conv2_drop = nn.Dropout2d()\n",
    "        self.fc1 = nn.Linear(64, 32)\n",
    "        self.fc2 = nn.Linear(32, 2)\n",
    "\n",
    "    def forward(self, x):\n",
    "        x = self.conv1(x)\n",
    "        x = F.relu(F.max_pool2d(x , 2))\n",
    "        x = F.relu(F.max_pool2d(self.conv2(x), 2))\n",
    "        x = self.conv3(x)\n",
    "        x = F.relu(F.max_pool2d(x, 2))\n",
    "        x = x.view(-1, 64)\n",
    "        x = F.relu(self.fc1(x))\n",
    "        x = F.softmax(self.fc2(x))\n",
    "        return x"
   ]
  },
  {
   "cell_type": "code",
   "execution_count": null,
   "metadata": {
    "collapsed": true
   },
   "outputs": [],
   "source": [
    "\n"
   ]
  },
  {
   "cell_type": "code",
   "execution_count": null,
   "metadata": {
    "collapsed": false
   },
   "outputs": [],
   "source": [
    "def train_net(dataloader, net, loss_criterion, mean_patch, optimizer, learn=True):\n",
    "    running_loss = 0.0\n",
    "    prediction = []\n",
    "    target = []\n",
    "    for i, data_item in enumerate(dataloader, 0):\n",
    "        if (i<400):\n",
    "            # get the inputs\n",
    "            inputs, labels = data_item\n",
    "\n",
    "            # Remove mean patch from current patch\n",
    "            inputs = inputs - mean_patch.repeat(inputs.size()[0], 1, 1, 1)\n",
    "            labels = labels.squeeze()\n",
    "            \n",
    "            # wrap them in Variable\n",
    "            inputs, labels = Variable(inputs), Variable(labels)\n",
    "\n",
    "            for label in labels:\n",
    "                if(label.data[0]==1):\n",
    "                    target.append(1)\n",
    "                else:\n",
    "                    target.append(0)\n",
    "                \n",
    "            # zero the parameter gradients\n",
    "            optimizer.zero_grad()\n",
    "\n",
    "            # forward\n",
    "            outputs = net(inputs)\n",
    "            loss = loss_criterion(outputs, labels)\n",
    "\n",
    "            # if learning  backward + optimize\n",
    "            if (learn):\n",
    "                loss.backward()        \n",
    "                optimizer.step()\n",
    "\n",
    "            running_loss += loss.data[0]\n",
    "            \n",
    "            \n",
    "            for output in outputs:\n",
    "                if(output.data[0]>0.5):\n",
    "                    prediction.append(1)\n",
    "                else:\n",
    "                    prediction.append(0)\n",
    "            \n",
    "            # If network currently learning\n",
    "\n",
    "    return prediction, target, running_loss\n"
   ]
  },
  {
   "cell_type": "code",
   "execution_count": null,
   "metadata": {
    "collapsed": false
   },
   "outputs": [],
   "source": [
    "def simulation(dataloader, test_dataloader, net, loss_criterion, mean_patch, epochNb, learning_rate):\n",
    "    \n",
    "    # Initialize performance arrays\n",
    "    train_losses = np.zeros(epochNb)\n",
    "    train_accuracies = np.zeros(epochNb)\n",
    "    test_losses = np.zeros(epochNb)\n",
    "    test_accuracies = np.zeros(epochNb)\n",
    "\n",
    "    train_learning = False\n",
    "    optimizer = torch.optim.Adam(net.parameters(), learning_rate)\n",
    "    for epoch in range(epochNb): # loop over the dataset multiple times\n",
    "        if (epoch>0):\n",
    "            train_learning = True\n",
    "\n",
    "        # train\n",
    "        prediction, target, train_loss = train_net(dataloader, net, loss_criterion, mean_patch,\n",
    "                                                   optimizer, learn=train_learning)\n",
    "        train_conf_mat, train_acc = metrics.get_metrics(target, prediction)\n",
    "        train_losses[epoch] = train_loss\n",
    "\n",
    "        # Save results\n",
    "        train_accuracies[epoch] = train_acc\n",
    "        train_losses[epoch] = train_loss\n",
    "        \n",
    "        # print epoch train results\n",
    "        print('Training loss: {los}'.format(los=train_loss))\n",
    "        print('Training confusion matrix')\n",
    "        print(train_conf_mat)\n",
    "        print('Training accuracy : ', train_acc) \n",
    "\n",
    "        # test\n",
    "        test_prediction, test_target, test_loss = train_net(test_dataloader, net, loss_criterion, mean_patch,\n",
    "                                                            optimizer, learn=False)\n",
    "        test_conf_mat, test_acc = get_metrics(test_target, test_prediction)\n",
    "        test_losses[epoch] = test_loss\n",
    "\n",
    "        # Save results\n",
    "        test_accuracies[epoch] = test_acc\n",
    "        test_losses[epoch] = test_loss\n",
    "        \n",
    "        # print epoch train results\n",
    "        print('Testing loss: {los}'.format(los=test_loss))\n",
    "        print('Testing confusion matrix')\n",
    "        print(test_conf_mat)\n",
    "        print('Testing accuracy : ', test_acc) \n",
    "        \n",
    "    return train_losses, test_losses, train_accuracies, test_accuracies"
   ]
  },
  {
   "cell_type": "code",
   "execution_count": null,
   "metadata": {
    "collapsed": false
   },
   "outputs": [],
   "source": [
    "model = Net()\n",
    "\n",
    "bce_criterion = nn.BCELoss()\n",
    "epoch = 100\n",
    "learning_rate = 0.000001\n",
    "momentum = 0.9\n",
    "train_losses, test_losses, train_accuracies, test_accuracies = simulation( test_loader, train_loader, model, bce_criterion, mean_patch, epoch, learning_rate)"
   ]
  },
  {
   "cell_type": "code",
   "execution_count": null,
   "metadata": {
    "collapsed": false
   },
   "outputs": [],
   "source": [
    "plt.plot(train_losses)\n",
    "plt.show()\n",
    "plt.plot(test_losses)\n",
    "plt.show()"
   ]
  },
  {
   "cell_type": "code",
   "execution_count": null,
   "metadata": {
    "collapsed": false
   },
   "outputs": [],
   "source": [
    "plt.plot(train_accuracies)\n",
    "plt.show()\n",
    "plt.plot(test_accuracies)\n",
    "plt.show()"
   ]
  },
  {
   "cell_type": "code",
   "execution_count": null,
   "metadata": {
    "collapsed": false
   },
   "outputs": [],
   "source": [
    "model = Net()\n",
    "optimizer = torch.optim.Adam(model.parameters(), learning_rate)\n",
    "prediction_, target_, loss_ = train_net(test_loader, model, bce_criterion, mean_patch,  optimizer, learn=False)\n",
    "get_metrics(target_, prediction_)"
   ]
  },
  {
   "cell_type": "code",
   "execution_count": null,
   "metadata": {
    "collapsed": true
   },
   "outputs": [],
   "source": []
  }
 ],
 "metadata": {
  "kernelspec": {
   "display_name": "Python 3",
   "language": "python",
   "name": "python3"
  },
  "language_info": {
   "codemirror_mode": {
    "name": "ipython",
    "version": 3
   },
   "file_extension": ".py",
   "mimetype": "text/x-python",
   "name": "python",
   "nbconvert_exporter": "python",
   "pygments_lexer": "ipython3",
   "version": "3.5.1"
  }
 },
 "nbformat": 4,
 "nbformat_minor": 2
}
