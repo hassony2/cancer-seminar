{
 "cells": [
  {
   "cell_type": "code",
   "execution_count": 2,
   "metadata": {
    "collapsed": false
   },
   "outputs": [
    {
     "name": "stdout",
     "output_type": "stream",
     "text": [
      "The autoreload extension is already loaded. To reload it, use:\n",
      "  %reload_ext autoreload\n"
     ]
    }
   ],
   "source": [
    "import json\n",
    "import math\n",
    "import os\n",
    "\n",
    "import matplotlib.pyplot as plt\n",
    "import numpy as np\n",
    "import pandas as pd\n",
    "import pickle as pkl\n",
    "from PIL import Image\n",
    "import scipy.misc\n",
    "import torch\n",
    "from torch.autograd import Variable\n",
    "import torch.nn as nn\n",
    "import torch.nn.functional as F\n",
    "import torch.utils.data as data\n",
    "from torchvision import transforms\n",
    "\n",
    "\n",
    "from src import preprocess\n",
    "from src import patient\n",
    "from src import model\n",
    "from src import metrics\n",
    "\n",
    "%load_ext autoreload \n",
    "%autoreload 2"
   ]
  },
  {
   "cell_type": "code",
   "execution_count": 3,
   "metadata": {
    "collapsed": false
   },
   "outputs": [],
   "source": [
    "data_dir = '/workdir/hassony/data'\n",
    "train_dir = data_dir + '/Training'\n",
    "save_dir = data_dir + '/storage'\n",
    "\n",
    "train_df = pd.read_csv('/workdir/hassony/data/Training.csv')"
   ]
  },
  {
   "cell_type": "code",
   "execution_count": 4,
   "metadata": {
    "collapsed": false
   },
   "outputs": [],
   "source": [
    "patch_size = 25\n",
    "patient_patches = preprocess.extract_all_patches(train_dir, patch_size)"
   ]
  },
  {
   "cell_type": "code",
   "execution_count": 45,
   "metadata": {
    "collapsed": false
   },
   "outputs": [
    {
     "name": "stdout",
     "output_type": "stream",
     "text": [
      "97 had at least one patch of size 25\n",
      "740053 patches were extracted in total\n"
     ]
    }
   ],
   "source": [
    "print('{nb_patients} had at least one patch of size {patch_size}'.format(nb_patients=len(patient_patches), patch_size=patch_size))\n",
    "nbs_patch = []\n",
    "for patient in patient_patches:\n",
    "    nbs_patch.append(len(patient_patches[patient]))\n",
    "    \n",
    "print('{nb_patch} patches were extracted in total'.format(nb_patch=np.sum(nbs_patch)))"
   ]
  },
  {
   "cell_type": "code",
   "execution_count": null,
   "metadata": {
    "collapsed": false,
    "scrolled": true
   },
   "outputs": [],
   "source": [
    "train_df"
   ]
  },
  {
   "cell_type": "code",
   "execution_count": 6,
   "metadata": {
    "collapsed": false
   },
   "outputs": [],
   "source": [
    "pkl.dump(patient_patches, open(save_dir +\n",
    "                                '/train_patient_patches_size{size}.pkl'.format(size=patch_size),\n",
    "                                'wb'))\n",
    "patient_patches = pkl.load( open(save_dir + '/train_patient_patches_size{size}.pkl'.format(size=patch_size), 'rb'))"
   ]
  },
  {
   "cell_type": "code",
   "execution_count": 8,
   "metadata": {
    "collapsed": false
   },
   "outputs": [
    {
     "name": "stdout",
     "output_type": "stream",
     "text": [
      "18 negative hpv patients\n",
      "53 positive hpv patients\n"
     ]
    }
   ],
   "source": [
    "# Get hpv-positive and hpv-negative patients\n",
    "pos_patients = patient.get_patients_by_rec(train_df, patient_patches.keys(), patient_patches, 1)\n",
    "neg_patients = patient.get_patients_by_rec(train_df, patient_patches.keys(), patient_patches, 0)\n",
    "print('{0} negative hpv patients'.format(len(neg_patients)))\n",
    "print('{0} positive hpv patients'.format(len(pos_patients)))"
   ]
  },
  {
   "cell_type": "code",
   "execution_count": 9,
   "metadata": {
    "collapsed": false
   },
   "outputs": [
    {
     "name": "stdout",
     "output_type": "stream",
     "text": [
      "train patients : [102, 100, 82, 107, 139, 1, 70, 4, 62, 43, 34, 37, 78, 140, 105, 48, 120, 153, 73, 150, 39, 71, 99, 47, 5, 64, 174, 9, 24, 18, 196, 293, 22, 273, 313]\n",
      "test patients : [51, 26, 44, 84, 63, 23, 116, 12, 7, 54, 65, 137, 55, 122, 79, 93, 30, 159, 38, 49, 121, 59, 32, 136, 46, 111, 13, 194, 142, 2, 15, 57, 143, 285, 312]\n"
     ]
    }
   ],
   "source": [
    "# Create a train-test-split with same number of negative and positive hpv patients in each set\n",
    "\n",
    "# Insure test-train split is consistent\n",
    "np.random.seed(2)\n",
    "    \n",
    "train_list, test_list = model.make_train_test_lists(pos_patients, neg_patients)\n",
    "print('train patients : {0}'.format(train_list))\n",
    "print('test patients : {0}'.format(test_list))"
   ]
  },
  {
   "cell_type": "code",
   "execution_count": 13,
   "metadata": {
    "collapsed": false
   },
   "outputs": [],
   "source": [
    "# Extract patches and targets as list of tensors and list of int respectively\n",
    "train_patches, train_targets = model.create_patch_target(train_list, patient_patches, train_df)\n",
    "test_patches, test_targets = model.create_patch_target(test_list, patient_patches, train_df)\n"
   ]
  },
  {
   "cell_type": "code",
   "execution_count": 14,
   "metadata": {
    "collapsed": false
   },
   "outputs": [
    {
     "name": "stdout",
     "output_type": "stream",
     "text": [
      "Extracted 383955 patches for training\n",
      "Extracted 353582 patches for testing\n"
     ]
    }
   ],
   "source": [
    "print('Extracted {patch_nb} patches for training'.format(patch_nb=len(train_patches)))\n",
    "print('Extracted {patch_nb} patches for testing'.format(patch_nb=len(test_patches)))"
   ]
  },
  {
   "cell_type": "code",
   "execution_count": 15,
   "metadata": {
    "collapsed": false
   },
   "outputs": [],
   "source": [
    "mean_patch = model.get_mean_patch(train_patches)"
   ]
  },
  {
   "cell_type": "code",
   "execution_count": 57,
   "metadata": {
    "collapsed": false
   },
   "outputs": [
    {
     "data": {
      "text/plain": [
       "1101.4235"
      ]
     },
     "execution_count": 57,
     "metadata": {},
     "output_type": "execute_result"
    }
   ],
   "source": [
    "np.mean(mean_patch.numpy())\n",
    "np.max(mean_patch.numpy())"
   ]
  },
  {
   "cell_type": "code",
   "execution_count": 55,
   "metadata": {
    "collapsed": false
   },
   "outputs": [
    {
     "data": {
      "image/png": "[encoded data removed]",
      "text/plain": [
       "<matplotlib.figure.Figure at 0x7ffef27b02e8>"
      ]
     },
     "metadata": {},
     "output_type": "display_data"
    }
   ],
   "source": [
    "mean_patch\n",
    "plt.imshow(mean_patch.numpy(), cmap='gray')\n",
    "plt.title('mean patch')\n",
    "plt.show()\n"
   ]
  },
  {
   "cell_type": "code",
   "execution_count": 17,
   "metadata": {
    "collapsed": false
   },
   "outputs": [
    {
     "name": "stdout",
     "output_type": "stream",
     "text": [
      "261056 positive patches\n",
      "122899 negative patches\n",
      "115480 positive patches\n",
      "238102 negative patches\n"
     ]
    }
   ],
   "source": [
    "train_target_tensors, train_patch_tensors = model.create_balanced_tensors(train_targets, train_patches, disp=True)\n",
    "test_target_tensors, test_patch_tensors = model.create_balanced_tensors(test_targets, test_patches, disp=True)\n"
   ]
  },
  {
   "cell_type": "code",
   "execution_count": 18,
   "metadata": {
    "collapsed": false
   },
   "outputs": [
    {
     "name": "stdout",
     "output_type": "stream",
     "text": [
      "torch.Size([245798, 1, 25, 25])\n",
      "torch.Size([230960, 1, 25, 25])\n"
     ]
    }
   ],
   "source": [
    "print(train_patch_tensors.size())\n",
    "print(test_patch_tensors.size())"
   ]
  },
  {
   "cell_type": "code",
   "execution_count": 19,
   "metadata": {
    "collapsed": false
   },
   "outputs": [
    {
     "name": "stdout",
     "output_type": "stream",
     "text": [
      "24580 training samples\n",
      "23096 training samples\n"
     ]
    }
   ],
   "source": [
    "batch_size = 10\n",
    "train_dataset = torch.utils.data.TensorDataset(train_patch_tensors, train_target_tensors)\n",
    "train_loader = torch.utils.data.DataLoader(train_dataset, shuffle=True, batch_size=batch_size)\n",
    "\n",
    "test_dataset = torch.utils.data.TensorDataset(test_patch_tensors, test_target_tensors)\n",
    "test_loader = torch.utils.data.DataLoader(test_dataset, shuffle=True, batch_size=batch_size)\n",
    "print(len(train_loader), 'training samples')\n",
    "print(len(test_loader), 'training samples')"
   ]
  },
  {
   "cell_type": "code",
   "execution_count": 20,
   "metadata": {
    "collapsed": false
   },
   "outputs": [],
   "source": [
    "class Net(nn.Module):\n",
    "    \"\"\"\n",
    "    takes patches of size 25 as input\n",
    "    \"\"\"\n",
    "    def __init__(self):\n",
    "        super(Net, self).__init__()\n",
    "        self.conv1 = nn.Conv2d(1, 32, kernel_size=3)\n",
    "        self.conv2 = nn.Conv2d(32, 32, kernel_size=3)\n",
    "        self.conv3 = nn.Conv2d(32, 64, kernel_size=3)\n",
    "        # self.conv2_drop = nn.Dropout2d()\n",
    "        self.fc1 = nn.Linear(64, 32)\n",
    "        self.fc2 = nn.Linear(32, 2)\n",
    "\n",
    "    def forward(self, x):\n",
    "        x = self.conv1(x)\n",
    "        x = F.relu(F.max_pool2d(x , 2))\n",
    "        x = F.relu(F.max_pool2d(self.conv2(x), 2))\n",
    "        x = self.conv3(x)\n",
    "        x = F.relu(F.max_pool2d(x, 2))\n",
    "        x = x.view(-1, 64)\n",
    "        x = F.relu(self.fc1(x))\n",
    "        x = F.softmax(self.fc2(x))\n",
    "        return x"
   ]
  },
  {
   "cell_type": "code",
   "execution_count": 21,
   "metadata": {
    "collapsed": false
   },
   "outputs": [],
   "source": [
    "def train_net(dataloader, net, loss_criterion, mean_patch, optimizer, learn=True):\n",
    "    running_loss = 0.0\n",
    "    prediction = []\n",
    "    target = []\n",
    "    for i, data_item in enumerate(dataloader, 0):\n",
    "        if (i<400):\n",
    "            # get the inputs\n",
    "            inputs, labels = data_item\n",
    "\n",
    "            # Remove mean patch from current patch\n",
    "            inputs = inputs - mean_patch.repeat(inputs.size()[0], 1, 1, 1)\n",
    "            labels = labels.squeeze()\n",
    "            \n",
    "            # wrap them in Variable\n",
    "            inputs, labels = Variable(inputs), Variable(labels)\n",
    "\n",
    "            for label in labels:\n",
    "                if(label.data[0]==1):\n",
    "                    target.append(1)\n",
    "                else:\n",
    "                    target.append(0)\n",
    "                \n",
    "            # zero the parameter gradients\n",
    "            optimizer.zero_grad()\n",
    "\n",
    "            # forward\n",
    "            outputs = net(inputs)\n",
    "            loss = loss_criterion(outputs, labels)\n",
    "\n",
    "            # if learning  backward + optimize\n",
    "            if (learn):\n",
    "                loss.backward()        \n",
    "                optimizer.step()\n",
    "\n",
    "            running_loss += loss.data[0]\n",
    "            \n",
    "            \n",
    "            for output in outputs:\n",
    "                if(output.data[0]>0.5):\n",
    "                    prediction.append(1)\n",
    "                else:\n",
    "                    prediction.append(0)\n",
    "            \n",
    "            # If network currently learning\n",
    "\n",
    "    return prediction, target, running_loss\n"
   ]
  },
  {
   "cell_type": "code",
   "execution_count": 27,
   "metadata": {
    "collapsed": false
   },
   "outputs": [],
   "source": [
    "def simulation(dataloader, test_dataloader, net, loss_criterion, mean_patch, epochNb, learning_rate):\n",
    "    \n",
    "    # Initialize performance arrays\n",
    "    train_losses = np.zeros(epochNb)\n",
    "    train_accuracies = np.zeros(epochNb)\n",
    "    test_losses = np.zeros(epochNb)\n",
    "    test_accuracies = np.zeros(epochNb)\n",
    "\n",
    "    train_learning = False\n",
    "    optimizer = torch.optim.Adam(net.parameters(), learning_rate)\n",
    "    for epoch in range(epochNb): # loop over the dataset multiple times\n",
    "        if (epoch>0):\n",
    "            train_learning = True\n",
    "\n",
    "        # train\n",
    "        prediction, target, train_loss = train_net(dataloader, net, loss_criterion, mean_patch,\n",
    "                                                   optimizer, learn=train_learning)\n",
    "        train_conf_mat, train_acc = metrics.get_metrics(target, prediction)\n",
    "        train_losses[epoch] = train_loss\n",
    "\n",
    "        # Save results\n",
    "        train_accuracies[epoch] = train_acc\n",
    "        train_losses[epoch] = train_loss\n",
    "        \n",
    "        # print epoch train results\n",
    "        print('Training loss: {los}'.format(los=train_loss))\n",
    "        print('Training confusion matrix')\n",
    "        print(train_conf_mat)\n",
    "        print('Training accuracy : ', train_acc) \n",
    "\n",
    "        # test\n",
    "        test_prediction, test_target, test_loss = train_net(test_dataloader, net, loss_criterion, mean_patch,\n",
    "                                                            optimizer, learn=False)\n",
    "        test_conf_mat, test_acc = metrics.get_metrics(test_target, test_prediction)\n",
    "        test_losses[epoch] = test_loss\n",
    "\n",
    "        # Save results\n",
    "        test_accuracies[epoch] = test_acc\n",
    "        test_losses[epoch] = test_loss\n",
    "        \n",
    "        # print epoch train results\n",
    "        print('Testing loss: {los}'.format(los=test_loss))\n",
    "        print('Testing confusion matrix')\n",
    "        print(test_conf_mat)\n",
    "        print('Testing accuracy : ', test_acc) \n",
    "        \n",
    "    return train_losses, test_losses, train_accuracies, test_accuracies"
   ]
  },
  {
   "cell_type": "code",
   "execution_count": 54,
   "metadata": {
    "collapsed": false
   },
   "outputs": [
    {
     "name": "stdout",
     "output_type": "stream",
     "text": [
      "Training loss: 552.4153308868408\n",
      "Training confusion matrix\n",
      "[[  740.   542.]\n",
      " [ 1307.  1411.]]\n",
      "Training accuracy :  0.53775\n",
      "Testing loss: 582.0201032757759\n",
      "Testing confusion matrix\n",
      "[[  530.   655.]\n",
      " [ 1500.  1315.]]\n",
      "Testing accuracy :  0.46125\n",
      "Training loss: 537.7623874843121\n",
      "Training confusion matrix\n",
      "[[  746.   635.]\n",
      " [ 1272.  1347.]]\n",
      "Training accuracy :  0.52325\n",
      "Testing loss: 527.3392508327961\n",
      "Testing confusion matrix\n",
      "[[  625.   821.]\n",
      " [ 1359.  1195.]]\n",
      "Testing accuracy :  0.455\n",
      "Training loss: 494.74034264683723\n",
      "Training confusion matrix\n",
      "[[  843.   671.]\n",
      " [ 1186.  1300.]]\n",
      "Training accuracy :  0.53575\n",
      "Testing loss: 505.70334178209305\n",
      "Testing confusion matrix\n",
      "[[  735.   906.]\n",
      " [ 1297.  1062.]]\n",
      "Testing accuracy :  0.44925\n",
      "Training loss: 483.42548111081123\n",
      "Training confusion matrix\n",
      "[[  917.   732.]\n",
      " [ 1160.  1191.]]\n",
      "Training accuracy :  0.527\n",
      "Testing loss: 460.2545104920864\n",
      "Testing confusion matrix\n",
      "[[  815.   985.]\n",
      " [ 1179.  1021.]]\n",
      "Testing accuracy :  0.459\n",
      "Training loss: 445.6668152809143\n",
      "Training confusion matrix\n",
      "[[  997.   792.]\n",
      " [ 1000.  1211.]]\n",
      "Training accuracy :  0.552\n",
      "Testing loss: 442.3170783817768\n",
      "Testing confusion matrix\n",
      "[[  881.  1091.]\n",
      " [ 1077.   951.]]\n",
      "Testing accuracy :  0.458\n",
      "Training loss: 441.59884655475616\n",
      "Training confusion matrix\n",
      "[[ 1008.   789.]\n",
      " [ 1007.  1196.]]\n",
      "Training accuracy :  0.551\n",
      "Testing loss: 442.1326467394829\n",
      "Testing confusion matrix\n",
      "[[  894.  1163.]\n",
      " [ 1058.   885.]]\n",
      "Testing accuracy :  0.44475\n",
      "Training loss: 429.22530964016914\n",
      "Training confusion matrix\n",
      "[[ 1068.   851.]\n",
      " [  933.  1148.]]\n",
      "Training accuracy :  0.554\n",
      "Testing loss: 423.7414992451668\n",
      "Testing confusion matrix\n",
      "[[  974.  1170.]\n",
      " [ 1014.   842.]]\n",
      "Testing accuracy :  0.454\n",
      "Training loss: 420.6982536017895\n",
      "Training confusion matrix\n",
      "[[ 1122.   888.]\n",
      " [  876.  1114.]]\n",
      "Training accuracy :  0.559\n",
      "Testing loss: 427.8770744204521\n",
      "Testing confusion matrix\n",
      "[[ 1000.  1214.]\n",
      " [  993.   793.]]\n",
      "Testing accuracy :  0.44825\n",
      "Training loss: 428.2796897292137\n",
      "Training confusion matrix\n",
      "[[ 1074.   880.]\n",
      " [  915.  1131.]]\n",
      "Training accuracy :  0.55125\n",
      "Testing loss: 421.11558133363724\n",
      "Testing confusion matrix\n",
      "[[ 1016.  1232.]\n",
      " [  980.   772.]]\n",
      "Testing accuracy :  0.447\n",
      "Training loss: 431.2153620123863\n",
      "Training confusion matrix\n",
      "[[ 1087.   936.]\n",
      " [  918.  1059.]]\n",
      "Training accuracy :  0.5365\n",
      "Testing loss: 400.16705894470215\n",
      "Testing confusion matrix\n",
      "[[ 1075.  1199.]\n",
      " [  957.   769.]]\n",
      "Testing accuracy :  0.461\n",
      "Training loss: 419.88115164637566\n",
      "Training confusion matrix\n",
      "[[ 1155.   955.]\n",
      " [  871.  1019.]]\n",
      "Training accuracy :  0.5435\n",
      "Testing loss: 408.9641510248184\n",
      "Testing confusion matrix\n",
      "[[ 1102.  1281.]\n",
      " [  878.   739.]]\n",
      "Testing accuracy :  0.46025\n",
      "Training loss: 402.65791445970535\n",
      "Training confusion matrix\n",
      "[[ 1169.   979.]\n",
      " [  835.  1017.]]\n",
      "Training accuracy :  0.5465\n",
      "Testing loss: 401.28309577703476\n",
      "Testing confusion matrix\n",
      "[[ 1113.  1323.]\n",
      " [  873.   691.]]\n",
      "Testing accuracy :  0.451\n",
      "Training loss: 408.6111882328987\n",
      "Training confusion matrix\n",
      "[[ 1154.  1018.]\n",
      " [  823.  1005.]]\n",
      "Training accuracy :  0.53975\n",
      "Testing loss: 387.0756782889366\n",
      "Testing confusion matrix\n",
      "[[ 1166.  1307.]\n",
      " [  846.   681.]]\n",
      "Testing accuracy :  0.46175\n",
      "Training loss: 402.93338778615\n",
      "Training confusion matrix\n",
      "[[ 1240.   962.]\n",
      " [  796.  1002.]]\n",
      "Training accuracy :  0.5605\n",
      "Testing loss: 399.3470725417137\n",
      "Testing confusion matrix\n",
      "[[ 1180.  1329.]\n",
      " [  827.   664.]]\n",
      "Testing accuracy :  0.461\n",
      "Training loss: 396.94173511862755\n",
      "Training confusion matrix\n",
      "[[ 1191.  1029.]\n",
      " [  794.   986.]]\n",
      "Training accuracy :  0.54425\n"
     ]
    },
    {
     "ename": "KeyboardInterrupt",
     "evalue": "",
     "output_type": "error",
     "traceback": [
      "\u001b[0;31m---------------------------------------------------------------------------\u001b[0m",
      "\u001b[0;31mKeyboardInterrupt\u001b[0m                         Traceback (most recent call last)",
      "\u001b[0;32m<ipython-input-54-f963efa72ab0>\u001b[0m in \u001b[0;36m<module>\u001b[0;34m()\u001b[0m\n\u001b[1;32m      6\u001b[0m \u001b[0mlearning_rate\u001b[0m \u001b[0;34m=\u001b[0m \u001b[0;36m0.0000005\u001b[0m\u001b[0;34m\u001b[0m\u001b[0m\n\u001b[1;32m      7\u001b[0m \u001b[0mmomentum\u001b[0m \u001b[0;34m=\u001b[0m \u001b[0;36m0.9\u001b[0m\u001b[0;34m\u001b[0m\u001b[0m\n\u001b[0;32m----> 8\u001b[0;31m \u001b[0mtrain_losses\u001b[0m\u001b[0;34m,\u001b[0m \u001b[0mtest_losses\u001b[0m\u001b[0;34m,\u001b[0m \u001b[0mtrain_accuracies\u001b[0m\u001b[0;34m,\u001b[0m \u001b[0mtest_accuracies\u001b[0m \u001b[0;34m=\u001b[0m \u001b[0msimulation\u001b[0m\u001b[0;34m(\u001b[0m \u001b[0mtest_loader\u001b[0m\u001b[0;34m,\u001b[0m \u001b[0mtrain_loader\u001b[0m\u001b[0;34m,\u001b[0m \u001b[0mmodel\u001b[0m\u001b[0;34m,\u001b[0m \u001b[0mbce_criterion\u001b[0m\u001b[0;34m,\u001b[0m \u001b[0mmean_patch\u001b[0m\u001b[0;34m,\u001b[0m \u001b[0mepoch\u001b[0m\u001b[0;34m,\u001b[0m \u001b[0mlearning_rate\u001b[0m\u001b[0;34m)\u001b[0m\u001b[0;34m\u001b[0m\u001b[0m\n\u001b[0m",
      "\u001b[0;32m<ipython-input-27-f5386f4c8252>\u001b[0m in \u001b[0;36msimulation\u001b[0;34m(dataloader, test_dataloader, net, loss_criterion, mean_patch, epochNb, learning_rate)\u001b[0m\n\u001b[1;32m     31\u001b[0m         \u001b[0;31m# test\u001b[0m\u001b[0;34m\u001b[0m\u001b[0;34m\u001b[0m\u001b[0m\n\u001b[1;32m     32\u001b[0m         test_prediction, test_target, test_loss = train_net(test_dataloader, net, loss_criterion, mean_patch,\n\u001b[0;32m---> 33\u001b[0;31m                                                             optimizer, learn=False)\n\u001b[0m\u001b[1;32m     34\u001b[0m         \u001b[0mtest_conf_mat\u001b[0m\u001b[0;34m,\u001b[0m \u001b[0mtest_acc\u001b[0m \u001b[0;34m=\u001b[0m \u001b[0mmetrics\u001b[0m\u001b[0;34m.\u001b[0m\u001b[0mget_metrics\u001b[0m\u001b[0;34m(\u001b[0m\u001b[0mtest_target\u001b[0m\u001b[0;34m,\u001b[0m \u001b[0mtest_prediction\u001b[0m\u001b[0;34m)\u001b[0m\u001b[0;34m\u001b[0m\u001b[0m\n\u001b[1;32m     35\u001b[0m         \u001b[0mtest_losses\u001b[0m\u001b[0;34m[\u001b[0m\u001b[0mepoch\u001b[0m\u001b[0;34m]\u001b[0m \u001b[0;34m=\u001b[0m \u001b[0mtest_loss\u001b[0m\u001b[0;34m\u001b[0m\u001b[0m\n",
      "\u001b[0;32m<ipython-input-21-5ecc1c48c016>\u001b[0m in \u001b[0;36mtrain_net\u001b[0;34m(dataloader, net, loss_criterion, mean_patch, optimizer, learn)\u001b[0m\n\u001b[1;32m     25\u001b[0m \u001b[0;34m\u001b[0m\u001b[0m\n\u001b[1;32m     26\u001b[0m             \u001b[0;31m# forward\u001b[0m\u001b[0;34m\u001b[0m\u001b[0;34m\u001b[0m\u001b[0m\n\u001b[0;32m---> 27\u001b[0;31m             \u001b[0moutputs\u001b[0m \u001b[0;34m=\u001b[0m \u001b[0mnet\u001b[0m\u001b[0;34m(\u001b[0m\u001b[0minputs\u001b[0m\u001b[0;34m)\u001b[0m\u001b[0;34m\u001b[0m\u001b[0m\n\u001b[0m\u001b[1;32m     28\u001b[0m             \u001b[0mloss\u001b[0m \u001b[0;34m=\u001b[0m \u001b[0mloss_criterion\u001b[0m\u001b[0;34m(\u001b[0m\u001b[0moutputs\u001b[0m\u001b[0;34m,\u001b[0m \u001b[0mlabels\u001b[0m\u001b[0;34m)\u001b[0m\u001b[0;34m\u001b[0m\u001b[0m\n\u001b[1;32m     29\u001b[0m \u001b[0;34m\u001b[0m\u001b[0m\n",
      "\u001b[0;32m/gpfs/workdir/hassony/virtual-python/lib/python3.5/site-packages/torch/nn/modules/module.py\u001b[0m in \u001b[0;36m__call__\u001b[0;34m(self, *input, **kwargs)\u001b[0m\n\u001b[1;32m    208\u001b[0m \u001b[0;34m\u001b[0m\u001b[0m\n\u001b[1;32m    209\u001b[0m     \u001b[0;32mdef\u001b[0m \u001b[0m__call__\u001b[0m\u001b[0;34m(\u001b[0m\u001b[0mself\u001b[0m\u001b[0;34m,\u001b[0m \u001b[0;34m*\u001b[0m\u001b[0minput\u001b[0m\u001b[0;34m,\u001b[0m \u001b[0;34m**\u001b[0m\u001b[0mkwargs\u001b[0m\u001b[0;34m)\u001b[0m\u001b[0;34m:\u001b[0m\u001b[0;34m\u001b[0m\u001b[0m\n\u001b[0;32m--> 210\u001b[0;31m         \u001b[0mresult\u001b[0m \u001b[0;34m=\u001b[0m \u001b[0mself\u001b[0m\u001b[0;34m.\u001b[0m\u001b[0mforward\u001b[0m\u001b[0;34m(\u001b[0m\u001b[0;34m*\u001b[0m\u001b[0minput\u001b[0m\u001b[0;34m,\u001b[0m \u001b[0;34m**\u001b[0m\u001b[0mkwargs\u001b[0m\u001b[0;34m)\u001b[0m\u001b[0;34m\u001b[0m\u001b[0m\n\u001b[0m\u001b[1;32m    211\u001b[0m         \u001b[0;32mfor\u001b[0m \u001b[0mhook\u001b[0m \u001b[0;32min\u001b[0m \u001b[0mself\u001b[0m\u001b[0;34m.\u001b[0m\u001b[0m_forward_hooks\u001b[0m\u001b[0;34m.\u001b[0m\u001b[0mvalues\u001b[0m\u001b[0;34m(\u001b[0m\u001b[0;34m)\u001b[0m\u001b[0;34m:\u001b[0m\u001b[0;34m\u001b[0m\u001b[0m\n\u001b[1;32m    212\u001b[0m             \u001b[0mhook_result\u001b[0m \u001b[0;34m=\u001b[0m \u001b[0mhook\u001b[0m\u001b[0;34m(\u001b[0m\u001b[0mself\u001b[0m\u001b[0;34m,\u001b[0m \u001b[0minput\u001b[0m\u001b[0;34m,\u001b[0m \u001b[0mresult\u001b[0m\u001b[0;34m)\u001b[0m\u001b[0;34m\u001b[0m\u001b[0m\n",
      "\u001b[0;32m<ipython-input-20-068cec31fdaf>\u001b[0m in \u001b[0;36mforward\u001b[0;34m(self, x)\u001b[0m\n\u001b[1;32m     15\u001b[0m         \u001b[0mx\u001b[0m \u001b[0;34m=\u001b[0m \u001b[0mself\u001b[0m\u001b[0;34m.\u001b[0m\u001b[0mconv1\u001b[0m\u001b[0;34m(\u001b[0m\u001b[0mx\u001b[0m\u001b[0;34m)\u001b[0m\u001b[0;34m\u001b[0m\u001b[0m\n\u001b[1;32m     16\u001b[0m         \u001b[0mx\u001b[0m \u001b[0;34m=\u001b[0m \u001b[0mF\u001b[0m\u001b[0;34m.\u001b[0m\u001b[0mrelu\u001b[0m\u001b[0;34m(\u001b[0m\u001b[0mF\u001b[0m\u001b[0;34m.\u001b[0m\u001b[0mmax_pool2d\u001b[0m\u001b[0;34m(\u001b[0m\u001b[0mx\u001b[0m \u001b[0;34m,\u001b[0m \u001b[0;36m2\u001b[0m\u001b[0;34m)\u001b[0m\u001b[0;34m)\u001b[0m\u001b[0;34m\u001b[0m\u001b[0m\n\u001b[0;32m---> 17\u001b[0;31m         \u001b[0mx\u001b[0m \u001b[0;34m=\u001b[0m \u001b[0mF\u001b[0m\u001b[0;34m.\u001b[0m\u001b[0mrelu\u001b[0m\u001b[0;34m(\u001b[0m\u001b[0mF\u001b[0m\u001b[0;34m.\u001b[0m\u001b[0mmax_pool2d\u001b[0m\u001b[0;34m(\u001b[0m\u001b[0mself\u001b[0m\u001b[0;34m.\u001b[0m\u001b[0mconv2\u001b[0m\u001b[0;34m(\u001b[0m\u001b[0mx\u001b[0m\u001b[0;34m)\u001b[0m\u001b[0;34m,\u001b[0m \u001b[0;36m2\u001b[0m\u001b[0;34m)\u001b[0m\u001b[0;34m)\u001b[0m\u001b[0;34m\u001b[0m\u001b[0m\n\u001b[0m\u001b[1;32m     18\u001b[0m         \u001b[0mx\u001b[0m \u001b[0;34m=\u001b[0m \u001b[0mself\u001b[0m\u001b[0;34m.\u001b[0m\u001b[0mconv3\u001b[0m\u001b[0;34m(\u001b[0m\u001b[0mx\u001b[0m\u001b[0;34m)\u001b[0m\u001b[0;34m\u001b[0m\u001b[0m\n\u001b[1;32m     19\u001b[0m         \u001b[0mx\u001b[0m \u001b[0;34m=\u001b[0m \u001b[0mF\u001b[0m\u001b[0;34m.\u001b[0m\u001b[0mrelu\u001b[0m\u001b[0;34m(\u001b[0m\u001b[0mF\u001b[0m\u001b[0;34m.\u001b[0m\u001b[0mmax_pool2d\u001b[0m\u001b[0;34m(\u001b[0m\u001b[0mx\u001b[0m\u001b[0;34m,\u001b[0m \u001b[0;36m2\u001b[0m\u001b[0;34m)\u001b[0m\u001b[0;34m)\u001b[0m\u001b[0;34m\u001b[0m\u001b[0m\n",
      "\u001b[0;32m/gpfs/workdir/hassony/virtual-python/lib/python3.5/site-packages/torch/nn/modules/module.py\u001b[0m in \u001b[0;36m__call__\u001b[0;34m(self, *input, **kwargs)\u001b[0m\n\u001b[1;32m    208\u001b[0m \u001b[0;34m\u001b[0m\u001b[0m\n\u001b[1;32m    209\u001b[0m     \u001b[0;32mdef\u001b[0m \u001b[0m__call__\u001b[0m\u001b[0;34m(\u001b[0m\u001b[0mself\u001b[0m\u001b[0;34m,\u001b[0m \u001b[0;34m*\u001b[0m\u001b[0minput\u001b[0m\u001b[0;34m,\u001b[0m \u001b[0;34m**\u001b[0m\u001b[0mkwargs\u001b[0m\u001b[0;34m)\u001b[0m\u001b[0;34m:\u001b[0m\u001b[0;34m\u001b[0m\u001b[0m\n\u001b[0;32m--> 210\u001b[0;31m         \u001b[0mresult\u001b[0m \u001b[0;34m=\u001b[0m \u001b[0mself\u001b[0m\u001b[0;34m.\u001b[0m\u001b[0mforward\u001b[0m\u001b[0;34m(\u001b[0m\u001b[0;34m*\u001b[0m\u001b[0minput\u001b[0m\u001b[0;34m,\u001b[0m \u001b[0;34m**\u001b[0m\u001b[0mkwargs\u001b[0m\u001b[0;34m)\u001b[0m\u001b[0;34m\u001b[0m\u001b[0m\n\u001b[0m\u001b[1;32m    211\u001b[0m         \u001b[0;32mfor\u001b[0m \u001b[0mhook\u001b[0m \u001b[0;32min\u001b[0m \u001b[0mself\u001b[0m\u001b[0;34m.\u001b[0m\u001b[0m_forward_hooks\u001b[0m\u001b[0;34m.\u001b[0m\u001b[0mvalues\u001b[0m\u001b[0;34m(\u001b[0m\u001b[0;34m)\u001b[0m\u001b[0;34m:\u001b[0m\u001b[0;34m\u001b[0m\u001b[0m\n\u001b[1;32m    212\u001b[0m             \u001b[0mhook_result\u001b[0m \u001b[0;34m=\u001b[0m \u001b[0mhook\u001b[0m\u001b[0;34m(\u001b[0m\u001b[0mself\u001b[0m\u001b[0;34m,\u001b[0m \u001b[0minput\u001b[0m\u001b[0;34m,\u001b[0m \u001b[0mresult\u001b[0m\u001b[0;34m)\u001b[0m\u001b[0;34m\u001b[0m\u001b[0m\n",
      "\u001b[0;32m/gpfs/workdir/hassony/virtual-python/lib/python3.5/site-packages/torch/nn/modules/conv.py\u001b[0m in \u001b[0;36mforward\u001b[0;34m(self, input)\u001b[0m\n\u001b[1;32m    233\u001b[0m     \u001b[0;32mdef\u001b[0m \u001b[0mforward\u001b[0m\u001b[0;34m(\u001b[0m\u001b[0mself\u001b[0m\u001b[0;34m,\u001b[0m \u001b[0minput\u001b[0m\u001b[0;34m)\u001b[0m\u001b[0;34m:\u001b[0m\u001b[0;34m\u001b[0m\u001b[0m\n\u001b[1;32m    234\u001b[0m         return F.conv2d(input, self.weight, self.bias, self.stride,\n\u001b[0;32m--> 235\u001b[0;31m                         self.padding, self.dilation, self.groups)\n\u001b[0m\u001b[1;32m    236\u001b[0m \u001b[0;34m\u001b[0m\u001b[0m\n\u001b[1;32m    237\u001b[0m \u001b[0;34m\u001b[0m\u001b[0m\n",
      "\u001b[0;32m/gpfs/workdir/hassony/virtual-python/lib/python3.5/site-packages/torch/nn/functional.py\u001b[0m in \u001b[0;36mconv2d\u001b[0;34m(input, weight, bias, stride, padding, dilation, groups)\u001b[0m\n\u001b[1;32m     52\u001b[0m     f = ConvNd(_pair(stride), _pair(padding), _pair(dilation), False,\n\u001b[1;32m     53\u001b[0m                _pair(0), groups)\n\u001b[0;32m---> 54\u001b[0;31m     \u001b[0;32mreturn\u001b[0m \u001b[0mf\u001b[0m\u001b[0;34m(\u001b[0m\u001b[0minput\u001b[0m\u001b[0;34m,\u001b[0m \u001b[0mweight\u001b[0m\u001b[0;34m,\u001b[0m \u001b[0mbias\u001b[0m\u001b[0;34m)\u001b[0m \u001b[0;32mif\u001b[0m \u001b[0mbias\u001b[0m \u001b[0;32mis\u001b[0m \u001b[0;32mnot\u001b[0m \u001b[0;32mNone\u001b[0m \u001b[0;32melse\u001b[0m \u001b[0mf\u001b[0m\u001b[0;34m(\u001b[0m\u001b[0minput\u001b[0m\u001b[0;34m,\u001b[0m \u001b[0mweight\u001b[0m\u001b[0;34m)\u001b[0m\u001b[0;34m\u001b[0m\u001b[0m\n\u001b[0m\u001b[1;32m     55\u001b[0m \u001b[0;34m\u001b[0m\u001b[0m\n\u001b[1;32m     56\u001b[0m \u001b[0;34m\u001b[0m\u001b[0m\n",
      "\u001b[0;32m/gpfs/workdir/hassony/virtual-python/lib/python3.5/site-packages/torch/nn/_functions/conv.py\u001b[0m in \u001b[0;36mforward\u001b[0;34m(self, input, weight, bias)\u001b[0m\n\u001b[1;32m     31\u001b[0m         \u001b[0;32mif\u001b[0m \u001b[0mk\u001b[0m \u001b[0;34m==\u001b[0m \u001b[0;36m3\u001b[0m\u001b[0;34m:\u001b[0m\u001b[0;34m\u001b[0m\u001b[0m\n\u001b[1;32m     32\u001b[0m             \u001b[0minput\u001b[0m\u001b[0;34m,\u001b[0m \u001b[0mweight\u001b[0m \u001b[0;34m=\u001b[0m \u001b[0m_view4d\u001b[0m\u001b[0;34m(\u001b[0m\u001b[0minput\u001b[0m\u001b[0;34m,\u001b[0m \u001b[0mweight\u001b[0m\u001b[0;34m)\u001b[0m\u001b[0;34m\u001b[0m\u001b[0m\n\u001b[0;32m---> 33\u001b[0;31m         \u001b[0moutput\u001b[0m \u001b[0;34m=\u001b[0m \u001b[0mself\u001b[0m\u001b[0;34m.\u001b[0m\u001b[0m_update_output\u001b[0m\u001b[0;34m(\u001b[0m\u001b[0minput\u001b[0m\u001b[0;34m,\u001b[0m \u001b[0mweight\u001b[0m\u001b[0;34m,\u001b[0m \u001b[0mbias\u001b[0m\u001b[0;34m)\u001b[0m\u001b[0;34m\u001b[0m\u001b[0m\n\u001b[0m\u001b[1;32m     34\u001b[0m         \u001b[0;32mif\u001b[0m \u001b[0mk\u001b[0m \u001b[0;34m==\u001b[0m \u001b[0;36m3\u001b[0m\u001b[0;34m:\u001b[0m\u001b[0;34m\u001b[0m\u001b[0m\n\u001b[1;32m     35\u001b[0m             \u001b[0moutput\u001b[0m\u001b[0;34m,\u001b[0m \u001b[0;34m=\u001b[0m \u001b[0m_view3d\u001b[0m\u001b[0;34m(\u001b[0m\u001b[0moutput\u001b[0m\u001b[0;34m)\u001b[0m\u001b[0;34m\u001b[0m\u001b[0m\n",
      "\u001b[0;32m/gpfs/workdir/hassony/virtual-python/lib/python3.5/site-packages/torch/nn/_functions/conv.py\u001b[0m in \u001b[0;36m_update_output\u001b[0;34m(self, input, weight, bias)\u001b[0m\n\u001b[1;32m     86\u001b[0m \u001b[0;34m\u001b[0m\u001b[0m\n\u001b[1;32m     87\u001b[0m         \u001b[0mself\u001b[0m\u001b[0;34m.\u001b[0m\u001b[0m_bufs\u001b[0m \u001b[0;34m=\u001b[0m \u001b[0;34m[\u001b[0m\u001b[0;34m[\u001b[0m\u001b[0;34m]\u001b[0m \u001b[0;32mfor\u001b[0m \u001b[0mg\u001b[0m \u001b[0;32min\u001b[0m \u001b[0mrange\u001b[0m\u001b[0;34m(\u001b[0m\u001b[0mself\u001b[0m\u001b[0;34m.\u001b[0m\u001b[0mgroups\u001b[0m\u001b[0;34m)\u001b[0m\u001b[0;34m]\u001b[0m\u001b[0;34m\u001b[0m\u001b[0m\n\u001b[0;32m---> 88\u001b[0;31m         \u001b[0;32mreturn\u001b[0m \u001b[0mself\u001b[0m\u001b[0;34m.\u001b[0m\u001b[0m_thnn\u001b[0m\u001b[0;34m(\u001b[0m\u001b[0;34m'update_output'\u001b[0m\u001b[0;34m,\u001b[0m \u001b[0minput\u001b[0m\u001b[0;34m,\u001b[0m \u001b[0mweight\u001b[0m\u001b[0;34m,\u001b[0m \u001b[0mbias\u001b[0m\u001b[0;34m)\u001b[0m\u001b[0;34m\u001b[0m\u001b[0m\n\u001b[0m\u001b[1;32m     89\u001b[0m \u001b[0;34m\u001b[0m\u001b[0m\n\u001b[1;32m     90\u001b[0m     \u001b[0;32mdef\u001b[0m \u001b[0m_grad_input\u001b[0m\u001b[0;34m(\u001b[0m\u001b[0mself\u001b[0m\u001b[0;34m,\u001b[0m \u001b[0minput\u001b[0m\u001b[0;34m,\u001b[0m \u001b[0mweight\u001b[0m\u001b[0;34m,\u001b[0m \u001b[0mgrad_output\u001b[0m\u001b[0;34m)\u001b[0m\u001b[0;34m:\u001b[0m\u001b[0;34m\u001b[0m\u001b[0m\n",
      "\u001b[0;32m/gpfs/workdir/hassony/virtual-python/lib/python3.5/site-packages/torch/nn/_functions/conv.py\u001b[0m in \u001b[0;36m_thnn\u001b[0;34m(self, fn_name, input, weight, *args)\u001b[0m\n\u001b[1;32m    145\u001b[0m         \u001b[0mimpl\u001b[0m \u001b[0;34m=\u001b[0m \u001b[0m_thnn_convs\u001b[0m\u001b[0;34m[\u001b[0m\u001b[0mself\u001b[0m\u001b[0;34m.\u001b[0m\u001b[0mthnn_class_name\u001b[0m\u001b[0;34m(\u001b[0m\u001b[0minput\u001b[0m\u001b[0;34m)\u001b[0m\u001b[0;34m]\u001b[0m\u001b[0;34m\u001b[0m\u001b[0m\n\u001b[1;32m    146\u001b[0m         \u001b[0;32mif\u001b[0m \u001b[0mself\u001b[0m\u001b[0;34m.\u001b[0m\u001b[0mgroups\u001b[0m \u001b[0;34m==\u001b[0m \u001b[0;36m1\u001b[0m\u001b[0;34m:\u001b[0m\u001b[0;34m\u001b[0m\u001b[0m\n\u001b[0;32m--> 147\u001b[0;31m             \u001b[0;32mreturn\u001b[0m \u001b[0mimpl\u001b[0m\u001b[0;34m[\u001b[0m\u001b[0mfn_name\u001b[0m\u001b[0;34m]\u001b[0m\u001b[0;34m(\u001b[0m\u001b[0mself\u001b[0m\u001b[0;34m,\u001b[0m \u001b[0mself\u001b[0m\u001b[0;34m.\u001b[0m\u001b[0m_bufs\u001b[0m\u001b[0;34m[\u001b[0m\u001b[0;36m0\u001b[0m\u001b[0;34m]\u001b[0m\u001b[0;34m,\u001b[0m \u001b[0minput\u001b[0m\u001b[0;34m,\u001b[0m \u001b[0mweight\u001b[0m\u001b[0;34m,\u001b[0m \u001b[0;34m*\u001b[0m\u001b[0margs\u001b[0m\u001b[0;34m)\u001b[0m\u001b[0;34m\u001b[0m\u001b[0m\n\u001b[0m\u001b[1;32m    148\u001b[0m         \u001b[0;32melse\u001b[0m\u001b[0;34m:\u001b[0m\u001b[0;34m\u001b[0m\u001b[0m\n\u001b[1;32m    149\u001b[0m             \u001b[0mres\u001b[0m \u001b[0;34m=\u001b[0m \u001b[0;34m[\u001b[0m\u001b[0;34m]\u001b[0m\u001b[0;34m\u001b[0m\u001b[0m\n",
      "\u001b[0;32m/gpfs/workdir/hassony/virtual-python/lib/python3.5/site-packages/torch/nn/_functions/conv.py\u001b[0m in \u001b[0;36mcall_update_output\u001b[0;34m(self, bufs, input, weight, bias)\u001b[0m\n\u001b[1;32m    217\u001b[0m         \u001b[0margs\u001b[0m \u001b[0;34m=\u001b[0m \u001b[0mparse_arguments\u001b[0m\u001b[0;34m(\u001b[0m\u001b[0mself\u001b[0m\u001b[0;34m,\u001b[0m \u001b[0mfn\u001b[0m\u001b[0;34m.\u001b[0m\u001b[0marguments\u001b[0m\u001b[0;34m[\u001b[0m\u001b[0;36m5\u001b[0m\u001b[0;34m:\u001b[0m\u001b[0;34m]\u001b[0m\u001b[0;34m,\u001b[0m \u001b[0mbufs\u001b[0m\u001b[0;34m,\u001b[0m \u001b[0mkernel_size\u001b[0m\u001b[0;34m)\u001b[0m\u001b[0;34m\u001b[0m\u001b[0m\n\u001b[1;32m    218\u001b[0m         getattr(backend, fn.name)(backend.library_state, input, output, weight,\n\u001b[0;32m--> 219\u001b[0;31m                                   bias, *args)\n\u001b[0m\u001b[1;32m    220\u001b[0m         \u001b[0;32mreturn\u001b[0m \u001b[0moutput\u001b[0m\u001b[0;34m\u001b[0m\u001b[0m\n\u001b[1;32m    221\u001b[0m     \u001b[0;32mreturn\u001b[0m \u001b[0mcall_update_output\u001b[0m\u001b[0;34m\u001b[0m\u001b[0m\n",
      "\u001b[0;31mKeyboardInterrupt\u001b[0m: "
     ]
    }
   ],
   "source": [
    "torch.manual_seed(2)\n",
    "model = Net()\n",
    "\n",
    "bce_criterion = nn.BCELoss()\n",
    "epoch = 50\n",
    "learning_rate = 0.0000001\n",
    "momentum = 0.9\n",
    "train_losses, test_losses, train_accuracies, test_accuracies = simulation( test_loader, train_loader, model, bce_criterion, mean_patch, epoch, learning_rate)"
   ]
  },
  {
   "cell_type": "code",
   "execution_count": 51,
   "metadata": {
    "collapsed": false
   },
   "outputs": [
    {
     "data": {
      "image/png": "[encoded data removed]",
      "text/plain": [
       "<matplotlib.figure.Figure at 0x7ffef28fcc50>"
      ]
     },
     "metadata": {},
     "output_type": "display_data"
    },
    {
     "data": {
      "image/png": "[encoded data removed]",
      "text/plain": [
       "<matplotlib.figure.Figure at 0x7ffef287dc18>"
      ]
     },
     "metadata": {},
     "output_type": "display_data"
    }
   ],
   "source": [
    "plt.plot(train_losses)\n",
    "plt.title('train loss')\n",
    "plt.xlabel('iteration')\n",
    "plt.ylabel('loss')\n",
    "plt.show()\n",
    "plt.plot(test_losses)\n",
    "plt.title('test loss')\n",
    "plt.xlabel('iteration')\n",
    "plt.ylabel('loss')\n",
    "plt.show()"
   ]
  },
  {
   "cell_type": "code",
   "execution_count": 52,
   "metadata": {
    "collapsed": false
   },
   "outputs": [
    {
     "data": {
      "image/png": "[encoded data removed]",
      "text/plain": [
       "<matplotlib.figure.Figure at 0x7ffef28884e0>"
      ]
     },
     "metadata": {},
     "output_type": "display_data"
    },
    {
     "data": {
      "image/png": "[encoded data removed]",
      "text/plain": [
       "<matplotlib.figure.Figure at 0x7ffef2888ac8>"
      ]
     },
     "metadata": {},
     "output_type": "display_data"
    }
   ],
   "source": [
    "plt.plot(train_accuracies)\n",
    "plt.title('train accuracy')\n",
    "plt.xlabel('iteration')\n",
    "plt.ylabel('accuracy')\n",
    "plt.show()\n",
    "plt.plot(test_accuracies)\n",
    "plt.title('test accuracy')\n",
    "plt.xlabel('iteration')\n",
    "plt.ylabel('accuracy')\n",
    "plt.show()"
   ]
  },
  {
   "cell_type": "code",
   "execution_count": null,
   "metadata": {
    "collapsed": false
   },
   "outputs": [],
   "source": [
    "model = Net()\n",
    "optimizer = torch.optim.Adam(model.parameters(), learning_rate)\n",
    "prediction_, target_, loss_ = train_net(test_loader, model, bce_criterion, mean_patch,  optimizer, learn=False)\n",
    "metrics.get_metrics(target_, prediction_)"
   ]
  },
  {
   "cell_type": "code",
   "execution_count": null,
   "metadata": {
    "collapsed": true
   },
   "outputs": [],
   "source": []
  }
 ],
 "metadata": {
  "kernelspec": {
   "display_name": "Python 3",
   "language": "python",
   "name": "python3"
  },
  "language_info": {
   "codemirror_mode": {
    "name": "ipython",
    "version": 3
   },
   "file_extension": ".py",
   "mimetype": "text/x-python",
   "name": "python",
   "nbconvert_exporter": "python",
   "pygments_lexer": "ipython3",
   "version": "3.5.1"
  }
 },
 "nbformat": 4,
 "nbformat_minor": 2
}
