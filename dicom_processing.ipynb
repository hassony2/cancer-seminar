{
 "cells": [
  {
   "cell_type": "code",
   "execution_count": 46,
   "metadata": {
    "collapsed": false
   },
   "outputs": [],
   "source": [
    "import dicom\n",
    "import matplotlib.pyplot as plt\n",
    "import numpy as np\n",
    "import os\n",
    "import re\n",
    "from skimage import draw\n",
    "\n",
    "\n",
    "%matplotlib inline"
   ]
  },
  {
   "cell_type": "code",
   "execution_count": 2,
   "metadata": {
    "collapsed": false
   },
   "outputs": [
    {
     "name": "stdout",
     "output_type": "stream",
     "text": [
      "150 patients in total\n"
     ]
    }
   ],
   "source": [
    "main_directory = '/mnt/d/python-env-seminar/data/training-cancer-loc'\n",
    "file_struct = os.walk(main_directory)\n",
    "directories = []\n",
    "files = []\n",
    "for directory in file_struct:\n",
    "    directories.append(directory[0])\n",
    "    files.append(directory[2])\n",
    "\n",
    "# directories contains a list of the patient directories\n",
    "directories = directories[1:]\n",
    "# files is a list of lists of all the files in the patient directories\n",
    "files = files[1:]\n",
    "\n",
    "print('{nb_patient} patients in total'.format(nb_patient=len(files)))"
   ]
  },
  {
   "cell_type": "code",
   "execution_count": 3,
   "metadata": {
    "collapsed": false
   },
   "outputs": [],
   "source": [
    "def dicom_attribute_list(dicom_file):\n",
    "    dicom_content = dicom.read_file(dicom_file)\n",
    "    attribute_list = dicom_content.dir(\"\")\n",
    "    return attribute_list\n",
    "\n",
    "def get_dicom_image(dicom_file):\n",
    "    dicom_content = dicom.read_file(dicom_file)\n",
    "    image_content = np.fromstring(dicom_content.PixelData, dtype=np.int16)\n",
    "    dicom_image = image_content.reshape((dicom_content.Columns, dicom_content.Rows))\n",
    "#     return numpy.fliplr(numpy.flipud(dicom_image))\n",
    "    return dicom_image\n",
    "    "
   ]
  },
  {
   "cell_type": "code",
   "execution_count": 4,
   "metadata": {
    "collapsed": false
   },
   "outputs": [],
   "source": [
    "roi_contour_tag = (0x3006, 0x0039)\n",
    "contour_sequence_tag = (0x3006, 0x0040)\n",
    "image_info_tag = (0x3006, 0x0016) \n",
    "image_id_tag = (0x0008, 0x1155)\n",
    "contour_data_tag = (0x3006, 0x0050)\n",
    "\n",
    "\n",
    "def get_tumor_index(dicom_content):\n",
    "    \"\"\"Returns the array position of the GTVp\n",
    "    This index can then be used to access the relevant contour\n",
    "    Usage : dicom_content[roi_contour_tag][get_tumor_index(dicom_content)]\n",
    "    \"\"\"\n",
    "    # TODO handle the case when no GTVp tumor is segmented\n",
    "    tumor_indexes = {}\n",
    "    fof = None\n",
    "    for seq in dicom_content.StructureSetROISequence:\n",
    "        fof = seq.ReferencedFrameOfReferenceUID\n",
    "        tumor_indexes[seq.ROIName] = int(seq.ROINumber) \n",
    "    return tumor_indexes['GTVp'] - 1\n",
    "\n",
    "\n",
    "def get_tumor_image_name(dicom_content, slice_index):\n",
    "    \"\"\"\n",
    "    Returns the ct name associated with current segmentation slice\n",
    "    dicom_content should be the dicom object for the segmentation dicom file\n",
    "    \"\"\"\n",
    "    tumor_index = get_tumor_index(dicom_content)\n",
    "    return dicom_content[roi_contour_tag][tumor_index][contour_sequence_tag][slice_index][image_info_tag][0][image_id_tag].value\n",
    "\n",
    "def get_tumor_segmentation(dicom_content, slice_index):\n",
    "    \"\"\"\n",
    "    Extracts the segmentation values for a given slice\n",
    "    dicom_content should be the dicom object for the segmentation dicom file\n",
    "    \"\"\"\n",
    "    tumor_index = get_tumor_index(dicom_content)\n",
    "    contour_raw = dicom_content[roi_contour_tag][tumor_index][contour_sequence_tag][slice_index][contour_data_tag].value\n",
    "    coords_1 = np.asarray([float(contour_raw[i]) for i in range(0, len(contour_raw), 3)])\n",
    "    coords_2 = np.asarray([float(contour_raw[i]) for i in range(1, len(contour_raw), 3)])\n",
    "    return coords_1, coords_2\n",
    "\n",
    "def plot_contour(contour_coords_1, contour_coords_2):\n",
    "    \"\"\"\n",
    "    Plots the contour given x and y coordinates\n",
    "    \"\"\"\n",
    "    plt.axes().set_aspect('equal')\n",
    "    plt.plot(contour_coords_1, contour_coords_2)\n",
    "    plt.show()\n",
    "\n",
    "def poly2mask_(vertex_row_coords, vertex_col_coords, shape):\n",
    "    \"\"\"\n",
    "    Converts vertices to a binary mask\n",
    "    \"\"\"\n",
    "    fill_row_coords, fill_col_coords = draw.polygon(vertex_row_coords, vertex_col_coords, shape)\n",
    "    mask = np.zeros(shape, dtype=np.bool)\n",
    "    mask[fill_row_coords, fill_col_coords] = True\n",
    "    return mask\n",
    "\n",
    "def extract_from_mask_(mask, size, stride):\n",
    "    \"\"\"\n",
    "    Extracts the upper left coordinates of all the patches that are fully in the mask\n",
    "    \"\"\"\n",
    "    mask_coords_x, mask_coords_y = np.nonzero(mask)\n",
    "    left  = np.min(mask_coords_x) \n",
    "    right = np.max(mask_coords_x) \n",
    "    up    = np.min(mask_coords_y) \n",
    "    down  = np.max(mask_coords_y) \n",
    "    squares = []\n",
    "    for i in range(left, right - size + 1, stride):\n",
    "        for j in range(up, down - size + 1, stride):\n",
    "            candidate_square = mask[np.ix_(np.arange(i, i + size), np.arange(j, j + size))]\n",
    "            # check if square entirely in the mask\n",
    "            if np.sum(candidate_square) == size ** 2:\n",
    "                squares.append((i, j))\n",
    "    return squares\n",
    "\n",
    "def extract_from_image(img, x_coords, y_coords, size, stride):\n",
    "    \"\"\"\n",
    "    Returns numpy array of patches with shape size x size with index of patch in the first dimension\n",
    "    \"\"\"\n",
    "    mask = poly2mask_(x_coords, y_coords, (512, 512)) # TODO: check if +255 OK\n",
    "    if(np.sum(mask)>0):\n",
    "        squares = extract_from_mask_(mask, size, stride)\n",
    "        patches = np.zeros([len(squares), size, size])\n",
    "        for k in range(len(squares)):\n",
    "            i, j = squares[k]\n",
    "            patches[k, :, :] = img[np.ix_(np.arange(i, i + size), np.arange(j, j + size))]\n",
    "        return patches\n",
    "    else:\n",
    "        return []\n"
   ]
  },
  {
   "cell_type": "code",
   "execution_count": 57,
   "metadata": {
    "collapsed": false
   },
   "outputs": [],
   "source": [
    "def extract_all_patient_patches(patient_path, patch_size, display=False):\n",
    "    \"\"\"Extract all patches of a given size for a patient\"\"\"\n",
    "    # Main file with segmentation is either str.dcm, STR.DCM, or /Str.dcm\n",
    "    if os.path.isfile(patient_path + '/STR.DCM'):\n",
    "        str_path = patient_path + '/STR.DCM'\n",
    "    elif (os.path.isfile(patient_path + '/Str.dcm')):\n",
    "        str_path = patient_path + '/Str.dcm'\n",
    "    else:\n",
    "        str_path = patient_path + '/str.dcm'\n",
    "    segment_dicom = dicom.read_file(str_path)\n",
    "    tumor_index = get_tumor_index(segment_dicom)\n",
    "    nb_image = len(segment_dicom[roi_contour_tag][tumor_index][contour_sequence_tag].value)\n",
    "    all_patches = []\n",
    "    # Go through all images that are referenced in the segmentation\n",
    "    # for each image, extract all the patches that match the requirements\n",
    "    for image_index  in range(nb_image):\n",
    "        dicom_name = get_tumor_image_name(segment_dicom, image_index)\n",
    "        ct_file = patient_path + '/' + 'CT' + dicom_name + '.dcm'\n",
    "        dicom_image = get_dicom_image(ct_file)\n",
    "        dicom_content = dicom.read_file(ct_file)\n",
    "        # Get patient position and spacing between pixels\n",
    "        patient_position = dicom_content.ImagePositionPatient\n",
    "        patient_position = [float(position) for position in patient_position]\n",
    "        ox, oy, oz = patient_position\n",
    "        \n",
    "        # Get patient spacing between pixels\n",
    "        patient_spacings = dicom_content.PixelSpacing\n",
    "        patient_spacings = [float(space) for space in patient_spacings]\n",
    "        sx, sy = patient_spacings\n",
    "        \n",
    "        # transform contour coordinates according to patient data\n",
    "        x_coords, y_coords  = get_tumor_segmentation(segment_dicom, image_index)\n",
    "        x_coords = np.asarray([(pos - ox) / sx for pos in x_coords])\n",
    "        y_coords = np.asarray([(pos - oy) / sy for pos in y_coords])\n",
    "        \n",
    "        # Display segmentation\n",
    "        if(display):\n",
    "            plt.imshow(dicom_image, cmap='gray')\n",
    "            plt.plot(x_coords, y_coords)\n",
    "            plt.show()\n",
    "        \n",
    "        # Extract patches\n",
    "        image_patches = extract_from_image(dicom_image, x_coords, y_coords, patch_size, 1)\n",
    "        if (np.shape(image_patches)[0]>0):\n",
    "            if (len(all_patches)==0):\n",
    "                all_patches = np.copy(image_patches)\n",
    "            else:\n",
    "                all_patches = np.concatenate((all_patches, image_patches))\n",
    "    return all_patches\n",
    "\n",
    "\n",
    "def extract_all_patches(main_folder_path, patch_size):  \n",
    "    \"\"\"\n",
    "    Extract patches for all patients\n",
    "    \"\"\"\n",
    "    file_struct = os.walk(main_directory)\n",
    "    directories = []\n",
    "    files = []\n",
    "    patient_patches = {}\n",
    "    for directory in file_struct:\n",
    "        directories.append(directory[0])\n",
    "\n",
    "    directories = directories[1:]\n",
    "    for patient_dir in directories:\n",
    "        patient_id = int(patient_dir.split('_')[1])\n",
    "        try:\n",
    "            patient_patches[patient_id] = extract_all_patient_patches(patient_dir, patch_size)\n",
    "        except KeyError:\n",
    "            pass\n",
    "    return patient_patches\n",
    "\n",
    "main_directory = '/mnt/d/python-env-seminar/data/training-cancer-loc'\n"
   ]
  },
  {
   "cell_type": "code",
   "execution_count": 58,
   "metadata": {
    "collapsed": false,
    "scrolled": false
   },
   "outputs": [
    {
     "data": {
      "text/plain": [
       "0"
      ]
     },
     "execution_count": 58,
     "metadata": {},
     "output_type": "execute_result"
    }
   ],
   "source": [
    "def get_case_index(case_number):\n",
    "    \"\"\"Takes the number of the case and returns the corresponding index\n",
    "    to retrieve the info in directories and files\"\"\"\n",
    "    return directories.index(main_directory + '/Case_' + str(case_number))\n",
    "\n",
    "pos_case = get_case_index(2)\n",
    "\n",
    "segment_dicom_ = dicom.read_file(directories[pos_case] + '/str.dcm' )\n",
    "segment_dicom_[roi_contour_tag][0][contour_sequence_tag][0][image_info_tag]\n",
    "segment_dicom_[roi_contour_tag][0]\n",
    "\n",
    "get_tumor_index(segment_dicom_)"
   ]
  },
  {
   "cell_type": "code",
   "execution_count": 59,
   "metadata": {
    "collapsed": false
   },
   "outputs": [
    {
     "name": "stdout",
     "output_type": "stream",
     "text": [
      "Extracted 5184 patches !\n"
     ]
    }
   ],
   "source": [
    "all_patches = extract_all_patient_patches(main_directory  + '/Case_4', 15, display=False)\n",
    "print('Extracted {nb_patches} patches !'.format(nb_patches=len(all_patches)))"
   ]
  },
  {
   "cell_type": "code",
   "execution_count": 60,
   "metadata": {
    "collapsed": false
   },
   "outputs": [
    {
     "data": {
      "image/png": "[encoded data removed]",
      "text/plain": [
       "<matplotlib.figure.Figure at 0x7fe357c9dd50>"
      ]
     },
     "metadata": {},
     "output_type": "display_data"
    },
    {
     "name": "stdout",
     "output_type": "stream",
     "text": [
      "5184\n"
     ]
    }
   ],
   "source": [
    "plt.imshow(all_patches[5], cmap=\"gray\")\n",
    "plt.show()\n",
    "print(len(all_patches))"
   ]
  },
  {
   "cell_type": "code",
   "execution_count": 62,
   "metadata": {
    "collapsed": false
   },
   "outputs": [
    {
     "ename": "MemoryError",
     "evalue": "",
     "output_type": "error",
     "traceback": [
      "\u001b[0;31m---------------------------------------------------------------------------\u001b[0m",
      "\u001b[0;31mMemoryError\u001b[0m                               Traceback (most recent call last)",
      "\u001b[0;32m<ipython-input-62-ff280307b9a8>\u001b[0m in \u001b[0;36m<module>\u001b[0;34m()\u001b[0m\n\u001b[1;32m      1\u001b[0m \u001b[0mpatch_size\u001b[0m \u001b[0;34m=\u001b[0m \u001b[0;36m25\u001b[0m\u001b[0;34m\u001b[0m\u001b[0m\n\u001b[0;32m----> 2\u001b[0;31m \u001b[0mpatches_dic\u001b[0m \u001b[0;34m=\u001b[0m \u001b[0mextract_all_patches\u001b[0m\u001b[0;34m(\u001b[0m\u001b[0mmain_directory\u001b[0m\u001b[0;34m,\u001b[0m \u001b[0mpatch_size\u001b[0m\u001b[0;34m)\u001b[0m\u001b[0;34m\u001b[0m\u001b[0m\n\u001b[0m",
      "\u001b[0;32m<ipython-input-57-39cdfaaf41c1>\u001b[0m in \u001b[0;36mextract_all_patches\u001b[0;34m(main_folder_path, patch_size)\u001b[0m\n\u001b[1;32m     65\u001b[0m         \u001b[0mpatient_id\u001b[0m \u001b[0;34m=\u001b[0m \u001b[0mint\u001b[0m\u001b[0;34m(\u001b[0m\u001b[0mpatient_dir\u001b[0m\u001b[0;34m.\u001b[0m\u001b[0msplit\u001b[0m\u001b[0;34m(\u001b[0m\u001b[0;34m'_'\u001b[0m\u001b[0;34m)\u001b[0m\u001b[0;34m[\u001b[0m\u001b[0;36m1\u001b[0m\u001b[0;34m]\u001b[0m\u001b[0;34m)\u001b[0m\u001b[0;34m\u001b[0m\u001b[0m\n\u001b[1;32m     66\u001b[0m         \u001b[0;32mtry\u001b[0m\u001b[0;34m:\u001b[0m\u001b[0;34m\u001b[0m\u001b[0m\n\u001b[0;32m---> 67\u001b[0;31m             \u001b[0mpatient_patches\u001b[0m\u001b[0;34m[\u001b[0m\u001b[0mpatient_id\u001b[0m\u001b[0;34m]\u001b[0m \u001b[0;34m=\u001b[0m \u001b[0mextract_all_patient_patches\u001b[0m\u001b[0;34m(\u001b[0m\u001b[0mpatient_dir\u001b[0m\u001b[0;34m,\u001b[0m \u001b[0mpatch_size\u001b[0m\u001b[0;34m)\u001b[0m\u001b[0;34m\u001b[0m\u001b[0m\n\u001b[0m\u001b[1;32m     68\u001b[0m         \u001b[0;32mexcept\u001b[0m \u001b[0mKeyError\u001b[0m\u001b[0;34m:\u001b[0m\u001b[0;34m\u001b[0m\u001b[0m\n\u001b[1;32m     69\u001b[0m             \u001b[0;32mpass\u001b[0m\u001b[0;34m\u001b[0m\u001b[0m\n",
      "\u001b[0;32m<ipython-input-57-39cdfaaf41c1>\u001b[0m in \u001b[0;36mextract_all_patient_patches\u001b[0;34m(patient_path, patch_size, display)\u001b[0m\n\u001b[1;32m     46\u001b[0m                 \u001b[0mall_patches\u001b[0m \u001b[0;34m=\u001b[0m \u001b[0mnp\u001b[0m\u001b[0;34m.\u001b[0m\u001b[0mcopy\u001b[0m\u001b[0;34m(\u001b[0m\u001b[0mimage_patches\u001b[0m\u001b[0;34m)\u001b[0m\u001b[0;34m\u001b[0m\u001b[0m\n\u001b[1;32m     47\u001b[0m             \u001b[0;32melse\u001b[0m\u001b[0;34m:\u001b[0m\u001b[0;34m\u001b[0m\u001b[0m\n\u001b[0;32m---> 48\u001b[0;31m                 \u001b[0mall_patches\u001b[0m \u001b[0;34m=\u001b[0m \u001b[0mnp\u001b[0m\u001b[0;34m.\u001b[0m\u001b[0mconcatenate\u001b[0m\u001b[0;34m(\u001b[0m\u001b[0;34m(\u001b[0m\u001b[0mall_patches\u001b[0m\u001b[0;34m,\u001b[0m \u001b[0mimage_patches\u001b[0m\u001b[0;34m)\u001b[0m\u001b[0;34m)\u001b[0m\u001b[0;34m\u001b[0m\u001b[0m\n\u001b[0m\u001b[1;32m     49\u001b[0m     \u001b[0;32mreturn\u001b[0m \u001b[0mall_patches\u001b[0m\u001b[0;34m\u001b[0m\u001b[0m\n\u001b[1;32m     50\u001b[0m \u001b[0;34m\u001b[0m\u001b[0m\n",
      "\u001b[0;31mMemoryError\u001b[0m: "
     ]
    }
   ],
   "source": [
    "patch_size = 25\n",
    "patches_dic = extract_all_patches(main_directory, patch_size)"
   ]
  },
  {
   "cell_type": "code",
   "execution_count": 38,
   "metadata": {
    "collapsed": false
   },
   "outputs": [],
   "source": [
    "nbs_patch = []\n",
    "for patient in patches_dic:\n",
    "    nbs_patch.append(len(patches_dic[patient]))"
   ]
  },
  {
   "cell_type": "code",
   "execution_count": 39,
   "metadata": {
    "collapsed": false
   },
   "outputs": [
    {
     "name": "stdout",
     "output_type": "stream",
     "text": [
      "0\n",
      "180788\n",
      "1890.0\n"
     ]
    }
   ],
   "source": [
    "print(np.min(nbs_patch))\n",
    "print(np.max(nbs_patch))\n",
    "print(np.median(nbs_patch))"
   ]
  },
  {
   "cell_type": "code",
   "execution_count": null,
   "metadata": {
    "collapsed": false
   },
   "outputs": [],
   "source": [
    "patches_dic.keys()"
   ]
  },
  {
   "cell_type": "code",
   "execution_count": 56,
   "metadata": {
    "collapsed": false
   },
   "outputs": [
    {
     "data": {
      "text/plain": [
       "'jdfslk'"
      ]
     },
     "execution_count": 56,
     "metadata": {},
     "output_type": "execute_result"
    }
   ],
   "source": [
    "some_string = 'ttesith_jdfslk'\n",
    "some_string.split('_')[1]"
   ]
  },
  {
   "cell_type": "code",
   "execution_count": null,
   "metadata": {
    "collapsed": true
   },
   "outputs": [],
   "source": []
  }
 ],
 "metadata": {
  "kernelspec": {
   "display_name": "Python 2",
   "language": "python",
   "name": "python2"
  },
  "language_info": {
   "codemirror_mode": {
    "name": "ipython",
    "version": 2
   },
   "file_extension": ".py",
   "mimetype": "text/x-python",
   "name": "python",
   "nbconvert_exporter": "python",
   "pygments_lexer": "ipython2",
   "version": "2.7.6"
  }
 },
 "nbformat": 4,
 "nbformat_minor": 2
}
